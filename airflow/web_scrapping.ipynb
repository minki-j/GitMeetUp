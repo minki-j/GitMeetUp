{
 "cells": [
  {
   "cell_type": "code",
   "execution_count": 8,
   "metadata": {},
   "outputs": [],
   "source": []
  },
  {
   "cell_type": "code",
   "execution_count": 9,
   "metadata": {},
   "outputs": [],
   "source": [
    "import requests\n",
    "from bs4 import BeautifulSoup\n",
    "\n",
    "url = \"https://www.nytimes.com/section/politics\"\n",
    "\n",
    "response = requests.get(url)\n",
    "\n",
    "if response.status_code == 200:\n",
    "    soup = BeautifulSoup(response.content, \"html.parser\")\n",
    "\n",
    "    articles = soup.find_all(\"article\")\n",
    "    print(f\"==>> articles: {len(articles)}\")\n",
    "\n",
    "    for article in articles:\n",
    "        title = article.find(\"h3\")\n",
    "        description = article.find(\"p\")\n",
    "\n",
    "        if title:\n",
    "            print(f\"Title: {title.get_text()}\")\n",
    "\n",
    "        if description:\n",
    "            print(f\"Description: {description.get_text()}\")\n",
    "\n",
    "        print(\"---\" * 10)\n",
    "else:\n",
    "    print(f\"Failed to retrieve the webpage. Status code: {response.status_code}\")"
   ]
  },
  {
   "cell_type": "code",
   "execution_count": 14,
   "metadata": {},
   "outputs": [
    {
     "name": "stdout",
     "output_type": "stream",
     "text": [
      "==>> articles: 14\n"
     ]
    }
   ],
   "source": [
    "# Find all articles\n"
   ]
  },
  {
   "cell_type": "code",
   "execution_count": 17,
   "metadata": {},
   "outputs": [
    {
     "name": "stdout",
     "output_type": "stream",
     "text": [
      "Title: Democrats Fear Safe Blue States Turning Purple as Biden Stays the Course\n",
      "Description: Lingering worries about President Biden’s age could make Minnesota, New Hampshire, New Mexico and Virginia competitive, party operatives believe.\n",
      "------------------------------\n",
      "Title: Shooting at Trump Rally Comes at Volatile Time in American History\n",
      "Description: Former President Donald J. Trump was declared “fine” by his campaign, and the gunman was killed by Secret Service snipers. The explosion of political violence further inflamed the campaign for the White House.\n",
      "------------------------------\n",
      "Title: Unscripted and Unbowed, Biden Seeks to Overcome Missteps With Policy Talk\n",
      "Description: The challenge for President Biden after last month’s debate debacle is that every public appearance between now and November will be scrutinized for evidence of infirmity.\n",
      "------------------------------\n",
      "Title: ‘No Poll Says That’: Biden Digs In as Democratic Fears Deepen\n",
      "Description: The president put on a competent showing at his pressure cooker of a news conference, but it remained in doubt if he could stem the bleeding of Democratic support.\n",
      "------------------------------\n",
      "Title: What We Know About the Trump Rally Shooting Victims So Far\n",
      "Description: One person was killed and two were critically injured. The victims, all adult men, include a longtime volunteer firefighter and a Marine Corps veteran.\n",
      "------------------------------\n",
      "Title: Republicans Place Shooting in Trump’s Narrative of Persecution\n",
      "Description: Even without a known motive, Donald J. Trump’s allies are casting the attempt on his life as part of the story of oppression at the heart of this campaign.\n",
      "------------------------------\n",
      "Title: How Will the R.N.C. Change After the Trump Assassination Attempt?\n",
      "Description: Trump campaign officials raised concerns that the messaging and tone of the speeches set to be delivered at the Republican National Convention this week might be overly aggressive.\n",
      "------------------------------\n",
      "Title: Gunman Appears to Have Acted Alone, but Motives Remain Unclear\n",
      "Description: The 20-year-old man from Pennsylvania who wounded former President Donald Trump left behind little social media presence or clues to what led him to open fire. Officials said he had no known history of mental illness.\n",
      "------------------------------\n",
      "Title: The Photographs That Made Trump an Incarnation of Defiance\n",
      "Description: In video footage, everything was pandemonium. It was still images that defined the attack and its aftermath.\n",
      "------------------------------\n",
      "Title: Doug Mills, Times Photographer at Trump Rally: ‘I Just Kept Doing My Job’\n",
      "Description: Doug Mills, a Times photographer, was at the Trump rally in Butler, Pa., on Saturday when shots rang out. He described his experience to Times Insider.\n",
      "------------------------------\n",
      "Title: Secret Service Snipers Were Strategically Placed Against Threats at the Trump Rally\n",
      "Description: In photographs of the Secret Service snipers, they appeared to be using long-range and powerful rifles that likely fire .300 or .338 cartridges, commonly used by well-trained military snipers.\n",
      "------------------------------\n",
      "Title: Secret Service Under Scrutiny After Assassination Attempt on Trump\n",
      "Description: President Biden calls for a review of the protective agency’s actions after the attack, which left an audience member dead and two critically wounded.\n",
      "------------------------------\n",
      "Title: Our Photographer on Capturing the Bullet Streaking Past Trump\n",
      "Description: Doug Mills, a veteran photographer for The New York Times, was only a few feet away from former President Donald J. Trump at the rally in Butler, Pa., when the shooting started. Mr. Mills kept his finger on the shutter button, photographing as the scene unfolded. It was only afterward, while reviewing his photos, that he realized he had captured the apparent path of a bullet used in the assassination attempt against the former president. He explains what he saw.\n",
      "------------------------------\n",
      "Title: Trump Credits Chart for Saving His Life, His Former White House Doctor Says\n",
      "Description: The former president said he would have been struck “right in the head” if he hadn’t turned and pointed at an immigration chart, Dr. Ronny Jackson said in an interview.\n",
      "------------------------------\n"
     ]
    }
   ],
   "source": []
  },
  {
   "cell_type": "code",
   "execution_count": null,
   "metadata": {},
   "outputs": [],
   "source": []
  }
 ],
 "metadata": {
  "kernelspec": {
   "display_name": "kaggle",
   "language": "python",
   "name": "python3"
  },
  "language_info": {
   "codemirror_mode": {
    "name": "ipython",
    "version": 3
   },
   "file_extension": ".py",
   "mimetype": "text/x-python",
   "name": "python",
   "nbconvert_exporter": "python",
   "pygments_lexer": "ipython3",
   "version": "3.11.5"
  }
 },
 "nbformat": 4,
 "nbformat_minor": 2
}
