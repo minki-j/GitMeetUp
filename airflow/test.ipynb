{
 "cells": [
  {
   "cell_type": "code",
   "execution_count": 13,
   "metadata": {},
   "outputs": [
    {
     "data": {
      "text/plain": [
       "DateTime(2024, 7, 6, 10, 44, 0, 344441, tzinfo=Timezone('UTC'))"
      ]
     },
     "execution_count": 13,
     "metadata": {},
     "output_type": "execute_result"
    }
   ],
   "source": [
    "import pendulum\n",
    "pendulum.now(tz=\"UTC\")"
   ]
  },
  {
   "cell_type": "code",
   "execution_count": 11,
   "metadata": {},
   "outputs": [
    {
     "data": {
      "text/plain": [
       "'b'"
      ]
     },
     "execution_count": 11,
     "metadata": {},
     "output_type": "execute_result"
    }
   ],
   "source": [
    "a = {\"a\": \"b\"}\n",
    "a[\"a\"]"
   ]
  },
  {
   "cell_type": "code",
   "execution_count": 10,
   "metadata": {},
   "outputs": [
    {
     "ename": "ImportError",
     "evalue": "cannot import name 'repos' from 'test' (/Users/minkijung/Documents/2PetProjects/gitmeetup/airflow/test.py)",
     "output_type": "error",
     "traceback": [
      "\u001b[0;31m---------------------------------------------------------------------------\u001b[0m",
      "\u001b[0;31mImportError\u001b[0m                               Traceback (most recent call last)",
      "Cell \u001b[0;32mIn[10], line 1\u001b[0m\n\u001b[0;32m----> 1\u001b[0m \u001b[38;5;28;01mfrom\u001b[39;00m \u001b[38;5;21;01mtest\u001b[39;00m \u001b[38;5;28;01mimport\u001b[39;00m repos\n\u001b[1;32m      3\u001b[0m \u001b[38;5;28mprint\u001b[39m(\u001b[38;5;28mlen\u001b[39m(repos))\n",
      "\u001b[0;31mImportError\u001b[0m: cannot import name 'repos' from 'test' (/Users/minkijung/Documents/2PetProjects/gitmeetup/airflow/test.py)"
     ]
    }
   ],
   "source": [
    "from test import repos\n",
    "\n",
    "print(len(repos))"
   ]
  },
  {
   "cell_type": "code",
   "execution_count": 5,
   "metadata": {},
   "outputs": [
    {
     "data": {
      "text/plain": [
       "'2024-06-29 09:20:27'"
      ]
     },
     "execution_count": 5,
     "metadata": {},
     "output_type": "execute_result"
    }
   ],
   "source": [
    "import pendulum\n",
    "\n",
    "pendulum.now(tz=\"America/Montreal\").to_datetime_string()"
   ]
  },
  {
   "cell_type": "code",
   "execution_count": 1,
   "metadata": {},
   "outputs": [],
   "source": [
    "GITHUB_USER_SCHEMA = {\n",
    "    \"login\": str,\n",
    "    \"id\": int,\n",
    "    \"node_id\": str,\n",
    "    \"avatar_url\": str,\n",
    "    \"gravatar_id\": str,\n",
    "    \"url\": str,\n",
    "    \"html_url\": str,\n",
    "    \"followers_url\": str,\n",
    "    \"following_url\": str,\n",
    "    \"gists_url\": str,\n",
    "    \"starred_url\": str,\n",
    "    \"subscriptions_url\": str,\n",
    "    \"organizations_url\": str,\n",
    "    \"repos_url\": str,\n",
    "    \"events_url\": str,\n",
    "    \"received_events_url\": str,\n",
    "    \"type\": str,\n",
    "    \"site_admin\": bool,\n",
    "    \"name\": str,\n",
    "    \"company\": str,\n",
    "    \"blog\": str,\n",
    "    \"location\": str,\n",
    "    \"email\": str,\n",
    "    \"hireable\": bool,\n",
    "    \"bio\": str,\n",
    "    \"twitter_username\": str,\n",
    "    \"public_repos\": int,\n",
    "    \"public_gists\": int,\n",
    "    \"followers\": int,\n",
    "    \"following\": int,\n",
    "    \"created_at\": str,\n",
    "    \"updated_at\": str,\n",
    "}"
   ]
  },
  {
   "cell_type": "code",
   "execution_count": 3,
   "metadata": {},
   "outputs": [
    {
     "data": {
      "text/plain": [
       "type"
      ]
     },
     "execution_count": 3,
     "metadata": {},
     "output_type": "execute_result"
    }
   ],
   "source": [
    "type(GITHUB_USER_SCHEMA[\"login\"])"
   ]
  },
  {
   "cell_type": "code",
   "execution_count": 1,
   "metadata": {},
   "outputs": [],
   "source": [
    "list1 = [1, 2, 3]\n",
    "list1.append(4)  # Adds 4 to the end of list1\n",
    "# list1 is now [1, 2, 3, 4]\n",
    "\n",
    "list2 = [5, 6]\n",
    "list1.append(list2)  # Adds list2 as a single element to the end of list1\n",
    "# list1 is now [1, 2, 3, 4, [5, 6]]"
   ]
  },
  {
   "cell_type": "code",
   "execution_count": 2,
   "metadata": {},
   "outputs": [
    {
     "data": {
      "text/plain": [
       "[1, 2, 3, 4, [5, 6]]"
      ]
     },
     "execution_count": 2,
     "metadata": {},
     "output_type": "execute_result"
    }
   ],
   "source": [
    "list1"
   ]
  },
  {
   "cell_type": "code",
   "execution_count": 2,
   "metadata": {},
   "outputs": [],
   "source": [
    "import os\n",
    "import modal\n",
    "from dotenv import load_dotenv\n",
    "\n",
    "load_dotenv()\n",
    "\n",
    "client = modal.Client.from_credentials(\n",
    "    token_id=os.environ[\"MODAL_TOKEN_ID\"],\n",
    "    token_secret=os.environ[\"MODAL_TOKEN_SECRET\"],\n",
    ")"
   ]
  },
  {
   "cell_type": "code",
   "execution_count": 6,
   "metadata": {},
   "outputs": [
    {
     "data": {
      "application/vnd.jupyter.widget-view+json": {
       "model_id": "da865ca58c3c403c8e46e3011ba8315e",
       "version_major": 2,
       "version_minor": 0
      },
      "text/plain": [
       "Output()"
      ]
     },
     "metadata": {},
     "output_type": "display_data"
    },
    {
     "data": {
      "text/html": [
       "<pre style=\"white-space:pre;overflow-x:auto;line-height:normal;font-family:Menlo,'DejaVu Sans Mono',consolas,'Courier New',monospace\"><span style=\"color: #008000; text-decoration-color: #008000\">✓</span> Initialized. <span style=\"color: #b2b2b2; text-decoration-color: #b2b2b2\">View run at </span><span style=\"color: #b2b2b2; text-decoration-color: #b2b2b2; text-decoration: underline\">https://modal.com/jung0072/main/apps/ap-7D4JoedrlHaqrNiB6xWnEz</span>\n",
       "</pre>\n"
      ],
      "text/plain": [
       "\u001b[32m✓\u001b[0m Initialized. \u001b[38;5;249mView run at \u001b[0m\u001b[4;38;5;249mhttps://modal.com/jung0072/main/apps/ap-7D4JoedrlHaqrNiB6xWnEz\u001b[0m\n"
      ]
     },
     "metadata": {},
     "output_type": "display_data"
    },
    {
     "data": {
      "text/html": [
       "<pre style=\"white-space:pre;overflow-x:auto;line-height:normal;font-family:Menlo,'DejaVu Sans Mono',consolas,'Courier New',monospace\"></pre>\n"
      ],
      "text/plain": []
     },
     "metadata": {},
     "output_type": "display_data"
    },
    {
     "data": {
      "application/vnd.jupyter.widget-view+json": {
       "model_id": "fbc9094c6fb4494cbeb97765e81e9674",
       "version_major": 2,
       "version_minor": 0
      },
      "text/plain": [
       "Output()"
      ]
     },
     "metadata": {},
     "output_type": "display_data"
    },
    {
     "data": {
      "text/html": [
       "<pre style=\"white-space:pre;overflow-x:auto;line-height:normal;font-family:Menlo,'DejaVu Sans Mono',consolas,'Courier New',monospace\"></pre>\n"
      ],
      "text/plain": []
     },
     "metadata": {},
     "output_type": "display_data"
    },
    {
     "data": {
      "text/html": [
       "<pre style=\"white-space:pre;overflow-x:auto;line-height:normal;font-family:Menlo,'DejaVu Sans Mono',consolas,'Courier New',monospace\"><span style=\"color: #008000; text-decoration-color: #008000\">✓</span> Created objects.\n",
       "</pre>\n"
      ],
      "text/plain": [
       "\u001b[32m✓\u001b[0m Created objects.\n"
      ]
     },
     "metadata": {},
     "output_type": "display_data"
    },
    {
     "data": {
      "application/vnd.jupyter.widget-view+json": {
       "model_id": "a7e0f3a08b104fa58727978d7ab74141",
       "version_major": 2,
       "version_minor": 0
      },
      "text/plain": [
       "Output()"
      ]
     },
     "metadata": {},
     "output_type": "display_data"
    },
    {
     "data": {
      "text/html": [
       "<pre style=\"white-space:pre;overflow-x:auto;line-height:normal;font-family:Menlo,'DejaVu Sans Mono',consolas,'Courier New',monospace\">hi\n",
       "</pre>\n"
      ],
      "text/plain": [
       "hi\n"
      ]
     },
     "metadata": {},
     "output_type": "display_data"
    },
    {
     "data": {
      "text/html": [
       "<pre style=\"white-space:pre;overflow-x:auto;line-height:normal;font-family:Menlo,'DejaVu Sans Mono',consolas,'Courier New',monospace\"></pre>\n"
      ],
      "text/plain": []
     },
     "metadata": {},
     "output_type": "display_data"
    },
    {
     "data": {
      "text/html": [
       "<pre style=\"white-space:pre;overflow-x:auto;line-height:normal;font-family:Menlo,'DejaVu Sans Mono',consolas,'Courier New',monospace\"><span style=\"color: #808000; text-decoration-color: #808000\">Stopping app - local entrypoint completed.\n",
       "</span></pre>\n"
      ],
      "text/plain": [
       "\u001b[33mStopping app - local entrypoint completed.\n",
       "\u001b[0m"
      ]
     },
     "metadata": {},
     "output_type": "display_data"
    },
    {
     "data": {
      "text/html": [
       "<pre style=\"white-space:pre;overflow-x:auto;line-height:normal;font-family:Menlo,'DejaVu Sans Mono',consolas,'Courier New',monospace\"><span style=\"color: #008000; text-decoration-color: #008000\">✓</span> App completed. <span style=\"color: #b2b2b2; text-decoration-color: #b2b2b2\">View run at </span><span style=\"color: #b2b2b2; text-decoration-color: #b2b2b2; text-decoration: underline\">https://modal.com/jung0072/main/apps/ap-7D4JoedrlHaqrNiB6xWnEz</span>\n",
       "</pre>\n"
      ],
      "text/plain": [
       "\u001b[32m✓\u001b[0m App completed. \u001b[38;5;249mView run at \u001b[0m\u001b[4;38;5;249mhttps://modal.com/jung0072/main/apps/ap-7D4JoedrlHaqrNiB6xWnEz\u001b[0m\n"
      ]
     },
     "metadata": {},
     "output_type": "display_data"
    }
   ],
   "source": [
    "app = modal.App(f\"airflow\")\n",
    "\n",
    "with app.run(client=client):\n",
    "    print(\"hi\")"
   ]
  },
  {
   "cell_type": "code",
   "execution_count": 1,
   "metadata": {},
   "outputs": [
    {
     "data": {
      "text/plain": [
       "23502"
      ]
     },
     "execution_count": 1,
     "metadata": {},
     "output_type": "execute_result"
    }
   ],
   "source": [
    "import json\n",
    "\n",
    "with open(\"../data/users_in_montreal_deduplicated.json\") as f:\n",
    "    users = json.load(f)\n",
    "\n",
    "len(users)"
   ]
  },
  {
   "cell_type": "code",
   "execution_count": 4,
   "metadata": {},
   "outputs": [
    {
     "data": {
      "text/plain": [
       "'2008-01-01..2008-02-01'"
      ]
     },
     "execution_count": 4,
     "metadata": {},
     "output_type": "execute_result"
    }
   ],
   "source": [
    "from dags.utils.date_utils import generate_date_intervals\n",
    "dates = generate_date_intervals(interval_days=60)\n",
    "dates[0]"
   ]
  },
  {
   "cell_type": "code",
   "execution_count": 9,
   "metadata": {},
   "outputs": [
    {
     "name": "stdout",
     "output_type": "stream",
     "text": [
      "length of github_accounts_from_airflow:  10492\n",
      "length of users:  23502\n"
     ]
    }
   ],
   "source": [
    "import json\n",
    "with open(\"../data/github_accounts_202406250917.json\") as f:\n",
    "    github_accounts_from_airflow = json.load(f)\n",
    "    print(\"length of github_accounts_from_airflow: \", len(github_accounts_from_airflow))\n",
    "\n",
    "with open(\"../data/users_in_montreal_deduplicated.json\") as f:\n",
    "    users = json.load(f)\n",
    "    print(\"length of users: \", len(users))"
   ]
  },
  {
   "cell_type": "code",
   "execution_count": 10,
   "metadata": {},
   "outputs": [
    {
     "data": {
      "text/plain": [
       "13237"
      ]
     },
     "execution_count": 10,
     "metadata": {},
     "output_type": "execute_result"
    }
   ],
   "source": [
    "# Find users that is not in github_accounts_from_airflow but in users\n",
    "ids_in_github_accounts_from_airflow = [account[\"id\"] for account in github_accounts_from_airflow]\n",
    "\n",
    "users_not_in_github_accounts_from_airflow = []\n",
    "for user in users:\n",
    "    if user[\"id\"] not in ids_in_github_accounts_from_airflow:\n",
    "        users_not_in_github_accounts_from_airflow.append(user)\n",
    "\n",
    "len(users_not_in_github_accounts_from_airflow)"
   ]
  },
  {
   "cell_type": "code",
   "execution_count": 12,
   "metadata": {},
   "outputs": [
    {
     "data": {
      "text/plain": [
       "10265"
      ]
     },
     "execution_count": 12,
     "metadata": {},
     "output_type": "execute_result"
    }
   ],
   "source": [
    "len(users) - len(users_not_in_github_accounts_from_airflow)"
   ]
  },
  {
   "cell_type": "code",
   "execution_count": 11,
   "metadata": {},
   "outputs": [
    {
     "data": {
      "text/plain": [
       "[{'login': 'vinokurov-nikola',\n",
       "  'id': 173086762,\n",
       "  'node_id': 'U_kgDOClEYKg',\n",
       "  'avatar_url': 'https://avatars.githubusercontent.com/u/173086762?v=4',\n",
       "  'gravatar_id': '',\n",
       "  'url': 'https://api.github.com/users/vinokurov-nikola',\n",
       "  'html_url': 'https://github.com/vinokurov-nikola',\n",
       "  'followers_url': 'https://api.github.com/users/vinokurov-nikola/followers',\n",
       "  'following_url': 'https://api.github.com/users/vinokurov-nikola/following{/other_user}',\n",
       "  'gists_url': 'https://api.github.com/users/vinokurov-nikola/gists{/gist_id}',\n",
       "  'starred_url': 'https://api.github.com/users/vinokurov-nikola/starred{/owner}{/repo}',\n",
       "  'subscriptions_url': 'https://api.github.com/users/vinokurov-nikola/subscriptions',\n",
       "  'organizations_url': 'https://api.github.com/users/vinokurov-nikola/orgs',\n",
       "  'repos_url': 'https://api.github.com/users/vinokurov-nikola/repos',\n",
       "  'events_url': 'https://api.github.com/users/vinokurov-nikola/events{/privacy}',\n",
       "  'received_events_url': 'https://api.github.com/users/vinokurov-nikola/received_events',\n",
       "  'type': 'User',\n",
       "  'site_admin': False,\n",
       "  'score': 1.0},\n",
       " {'login': 'usroute1',\n",
       "  'id': 172986426,\n",
       "  'node_id': 'U_kgDOCk-QOg',\n",
       "  'avatar_url': 'https://avatars.githubusercontent.com/u/172986426?v=4',\n",
       "  'gravatar_id': '',\n",
       "  'url': 'https://api.github.com/users/usroute1',\n",
       "  'html_url': 'https://github.com/usroute1',\n",
       "  'followers_url': 'https://api.github.com/users/usroute1/followers',\n",
       "  'following_url': 'https://api.github.com/users/usroute1/following{/other_user}',\n",
       "  'gists_url': 'https://api.github.com/users/usroute1/gists{/gist_id}',\n",
       "  'starred_url': 'https://api.github.com/users/usroute1/starred{/owner}{/repo}',\n",
       "  'subscriptions_url': 'https://api.github.com/users/usroute1/subscriptions',\n",
       "  'organizations_url': 'https://api.github.com/users/usroute1/orgs',\n",
       "  'repos_url': 'https://api.github.com/users/usroute1/repos',\n",
       "  'events_url': 'https://api.github.com/users/usroute1/events{/privacy}',\n",
       "  'received_events_url': 'https://api.github.com/users/usroute1/received_events',\n",
       "  'type': 'User',\n",
       "  'site_admin': False,\n",
       "  'score': 1.0},\n",
       " {'login': 'viktory898',\n",
       "  'id': 172086527,\n",
       "  'node_id': 'U_kgDOCkHU_w',\n",
       "  'avatar_url': 'https://avatars.githubusercontent.com/u/172086527?v=4',\n",
       "  'gravatar_id': '',\n",
       "  'url': 'https://api.github.com/users/viktory898',\n",
       "  'html_url': 'https://github.com/viktory898',\n",
       "  'followers_url': 'https://api.github.com/users/viktory898/followers',\n",
       "  'following_url': 'https://api.github.com/users/viktory898/following{/other_user}',\n",
       "  'gists_url': 'https://api.github.com/users/viktory898/gists{/gist_id}',\n",
       "  'starred_url': 'https://api.github.com/users/viktory898/starred{/owner}{/repo}',\n",
       "  'subscriptions_url': 'https://api.github.com/users/viktory898/subscriptions',\n",
       "  'organizations_url': 'https://api.github.com/users/viktory898/orgs',\n",
       "  'repos_url': 'https://api.github.com/users/viktory898/repos',\n",
       "  'events_url': 'https://api.github.com/users/viktory898/events{/privacy}',\n",
       "  'received_events_url': 'https://api.github.com/users/viktory898/received_events',\n",
       "  'type': 'User',\n",
       "  'site_admin': False,\n",
       "  'score': 1.0}]"
      ]
     },
     "execution_count": 11,
     "metadata": {},
     "output_type": "execute_result"
    }
   ],
   "source": [
    "users_not_in_github_accounts_from_airflow[:3]"
   ]
  },
  {
   "cell_type": "code",
   "execution_count": 17,
   "metadata": {},
   "outputs": [
    {
     "data": {
      "text/plain": [
       "{'id': 816994095,\n",
       " 'node_id': 'R_kgDOMLJXLw',\n",
       " 'name': 'GitMeetUp',\n",
       " 'full_name': 'minki-j/GitMeetUp',\n",
       " 'private': False,\n",
       " 'owner': {'login': 'minki-j',\n",
       "  'id': 113061064,\n",
       "  'node_id': 'U_kgDOBr0syA',\n",
       "  'avatar_url': 'https://avatars.githubusercontent.com/u/113061064?v=4',\n",
       "  'gravatar_id': '',\n",
       "  'url': 'https://api.github.com/users/minki-j',\n",
       "  'html_url': 'https://github.com/minki-j',\n",
       "  'followers_url': 'https://api.github.com/users/minki-j/followers',\n",
       "  'following_url': 'https://api.github.com/users/minki-j/following{/other_user}',\n",
       "  'gists_url': 'https://api.github.com/users/minki-j/gists{/gist_id}',\n",
       "  'starred_url': 'https://api.github.com/users/minki-j/starred{/owner}{/repo}',\n",
       "  'subscriptions_url': 'https://api.github.com/users/minki-j/subscriptions',\n",
       "  'organizations_url': 'https://api.github.com/users/minki-j/orgs',\n",
       "  'repos_url': 'https://api.github.com/users/minki-j/repos',\n",
       "  'events_url': 'https://api.github.com/users/minki-j/events{/privacy}',\n",
       "  'received_events_url': 'https://api.github.com/users/minki-j/received_events',\n",
       "  'type': 'User',\n",
       "  'site_admin': False},\n",
       " 'html_url': 'https://github.com/minki-j/GitMeetUp',\n",
       " 'description': 'A tech meetup organizer powered by LLMs',\n",
       " 'fork': False,\n",
       " 'url': 'https://api.github.com/repos/minki-j/GitMeetUp',\n",
       " 'forks_url': 'https://api.github.com/repos/minki-j/GitMeetUp/forks',\n",
       " 'keys_url': 'https://api.github.com/repos/minki-j/GitMeetUp/keys{/key_id}',\n",
       " 'collaborators_url': 'https://api.github.com/repos/minki-j/GitMeetUp/collaborators{/collaborator}',\n",
       " 'teams_url': 'https://api.github.com/repos/minki-j/GitMeetUp/teams',\n",
       " 'hooks_url': 'https://api.github.com/repos/minki-j/GitMeetUp/hooks',\n",
       " 'issue_events_url': 'https://api.github.com/repos/minki-j/GitMeetUp/issues/events{/number}',\n",
       " 'events_url': 'https://api.github.com/repos/minki-j/GitMeetUp/events',\n",
       " 'assignees_url': 'https://api.github.com/repos/minki-j/GitMeetUp/assignees{/user}',\n",
       " 'branches_url': 'https://api.github.com/repos/minki-j/GitMeetUp/branches{/branch}',\n",
       " 'tags_url': 'https://api.github.com/repos/minki-j/GitMeetUp/tags',\n",
       " 'blobs_url': 'https://api.github.com/repos/minki-j/GitMeetUp/git/blobs{/sha}',\n",
       " 'git_tags_url': 'https://api.github.com/repos/minki-j/GitMeetUp/git/tags{/sha}',\n",
       " 'git_refs_url': 'https://api.github.com/repos/minki-j/GitMeetUp/git/refs{/sha}',\n",
       " 'trees_url': 'https://api.github.com/repos/minki-j/GitMeetUp/git/trees{/sha}',\n",
       " 'statuses_url': 'https://api.github.com/repos/minki-j/GitMeetUp/statuses/{sha}',\n",
       " 'languages_url': 'https://api.github.com/repos/minki-j/GitMeetUp/languages',\n",
       " 'stargazers_url': 'https://api.github.com/repos/minki-j/GitMeetUp/stargazers',\n",
       " 'contributors_url': 'https://api.github.com/repos/minki-j/GitMeetUp/contributors',\n",
       " 'subscribers_url': 'https://api.github.com/repos/minki-j/GitMeetUp/subscribers',\n",
       " 'subscription_url': 'https://api.github.com/repos/minki-j/GitMeetUp/subscription',\n",
       " 'commits_url': 'https://api.github.com/repos/minki-j/GitMeetUp/commits{/sha}',\n",
       " 'git_commits_url': 'https://api.github.com/repos/minki-j/GitMeetUp/git/commits{/sha}',\n",
       " 'comments_url': 'https://api.github.com/repos/minki-j/GitMeetUp/comments{/number}',\n",
       " 'issue_comment_url': 'https://api.github.com/repos/minki-j/GitMeetUp/issues/comments{/number}',\n",
       " 'contents_url': 'https://api.github.com/repos/minki-j/GitMeetUp/contents/{+path}',\n",
       " 'compare_url': 'https://api.github.com/repos/minki-j/GitMeetUp/compare/{base}...{head}',\n",
       " 'merges_url': 'https://api.github.com/repos/minki-j/GitMeetUp/merges',\n",
       " 'archive_url': 'https://api.github.com/repos/minki-j/GitMeetUp/{archive_format}{/ref}',\n",
       " 'downloads_url': 'https://api.github.com/repos/minki-j/GitMeetUp/downloads',\n",
       " 'issues_url': 'https://api.github.com/repos/minki-j/GitMeetUp/issues{/number}',\n",
       " 'pulls_url': 'https://api.github.com/repos/minki-j/GitMeetUp/pulls{/number}',\n",
       " 'milestones_url': 'https://api.github.com/repos/minki-j/GitMeetUp/milestones{/number}',\n",
       " 'notifications_url': 'https://api.github.com/repos/minki-j/GitMeetUp/notifications{?since,all,participating}',\n",
       " 'labels_url': 'https://api.github.com/repos/minki-j/GitMeetUp/labels{/name}',\n",
       " 'releases_url': 'https://api.github.com/repos/minki-j/GitMeetUp/releases{/id}',\n",
       " 'deployments_url': 'https://api.github.com/repos/minki-j/GitMeetUp/deployments',\n",
       " 'created_at': '2024-06-18T19:53:45Z',\n",
       " 'updated_at': '2024-06-28T00:08:24Z',\n",
       " 'pushed_at': '2024-06-28T00:08:21Z',\n",
       " 'git_url': 'git://github.com/minki-j/GitMeetUp.git',\n",
       " 'ssh_url': 'git@github.com:minki-j/GitMeetUp.git',\n",
       " 'clone_url': 'https://github.com/minki-j/GitMeetUp.git',\n",
       " 'svn_url': 'https://github.com/minki-j/GitMeetUp',\n",
       " 'homepage': None,\n",
       " 'size': 2810,\n",
       " 'stargazers_count': 0,\n",
       " 'watchers_count': 0,\n",
       " 'language': 'Python',\n",
       " 'has_issues': True,\n",
       " 'has_projects': True,\n",
       " 'has_downloads': True,\n",
       " 'has_wiki': True,\n",
       " 'has_pages': False,\n",
       " 'has_discussions': False,\n",
       " 'forks_count': 0,\n",
       " 'mirror_url': None,\n",
       " 'archived': False,\n",
       " 'disabled': False,\n",
       " 'open_issues_count': 0,\n",
       " 'license': None,\n",
       " 'allow_forking': True,\n",
       " 'is_template': False,\n",
       " 'web_commit_signoff_required': False,\n",
       " 'topics': [],\n",
       " 'visibility': 'public',\n",
       " 'forks': 0,\n",
       " 'open_issues': 0,\n",
       " 'watchers': 0,\n",
       " 'default_branch': 'main',\n",
       " 'permissions': {'admin': True,\n",
       "  'maintain': True,\n",
       "  'push': True,\n",
       "  'triage': True,\n",
       "  'pull': True},\n",
       " 'temp_clone_token': '',\n",
       " 'network_count': 0,\n",
       " 'subscribers_count': 1}"
      ]
     },
     "execution_count": 17,
     "metadata": {},
     "output_type": "execute_result"
    }
   ],
   "source": [
    "import requests\n",
    "import os\n",
    "from dotenv import load_dotenv\n",
    "import json\n",
    "\n",
    "token = os.getenv(\"GITHUB_TOKEN\")\n",
    "if not token:\n",
    "    raise ValueError(\"Github token is not set\")\n",
    "headers = {\"Authorization\": f\"Bearer {token}\"}\n",
    "res = requests.get(\n",
    "    \"https://api.github.com/repos/minki-j/GitMeetUp\",\n",
    "    headers=headers\n",
    ")\n",
    "res.json()"
   ]
  },
  {
   "cell_type": "code",
   "execution_count": 20,
   "metadata": {},
   "outputs": [
    {
     "data": {
      "text/plain": [
       "'W/\"1f6e94f0e0723d0e1d81464d2d1a48d8025436eeddba38746cc125d733d5459e\"'"
      ]
     },
     "execution_count": 20,
     "metadata": {},
     "output_type": "execute_result"
    }
   ],
   "source": [
    "res.headers.get(\"ETag\")"
   ]
  },
  {
   "cell_type": "code",
   "execution_count": 26,
   "metadata": {},
   "outputs": [
    {
     "name": "stdout",
     "output_type": "stream",
     "text": [
      "==>> last_modified: Fri, 28 Jun 2024 00:08:24 GMT\n"
     ]
    }
   ],
   "source": [
    "last_modified = res.headers.get(\"Last-Modified\")\n",
    "print(f\"==>> last_modified: {last_modified}\")"
   ]
  },
  {
   "cell_type": "code",
   "execution_count": 33,
   "metadata": {},
   "outputs": [
    {
     "name": "stdout",
     "output_type": "stream",
     "text": [
      "Not modified since last time\n",
      "4990\n"
     ]
    }
   ],
   "source": [
    "import requests\n",
    "import os\n",
    "from dotenv import load_dotenv\n",
    "import json\n",
    "\n",
    "token = os.getenv(\"GITHUB_TOKEN\")\n",
    "if not token:\n",
    "    raise ValueError(\"Github token is not set\")\n",
    "headers = {\n",
    "    \"Authorization\": f\"Bearer {token}\",\n",
    "    \"if-modified-since\": \"Fri, 28 Jun 2024 00:08:24 GMT\",\n",
    "}\n",
    "res = requests.get(\"https://api.github.com/repos/minki-j/GitMeetUp\", headers=headers)\n",
    "if res.status_code == 304:\n",
    "    print(\"Not modified since last time\")\n",
    "else:\n",
    "    print(\"Modified since last time\")\n",
    "    print(res.json())\n",
    "print(\"x-ratelimit-remaining:\", res.headers.get(\"x-ratelimit-remaining\"))"
   ]
  },
  {
   "cell_type": "markdown",
   "metadata": {},
   "source": [
    "Rate limit doesn't get deducted when I'm using if header properly"
   ]
  },
  {
   "cell_type": "code",
   "execution_count": 19,
   "metadata": {},
   "outputs": [
    {
     "data": {
      "text/plain": [
       "['Server',\n",
       " 'Date',\n",
       " 'Content-Type',\n",
       " 'Cache-Control',\n",
       " 'Vary',\n",
       " 'ETag',\n",
       " 'Last-Modified',\n",
       " 'X-OAuth-Scopes',\n",
       " 'X-Accepted-OAuth-Scopes',\n",
       " 'github-authentication-token-expiration',\n",
       " 'X-GitHub-Media-Type',\n",
       " 'x-github-api-version-selected',\n",
       " 'X-RateLimit-Limit',\n",
       " 'X-RateLimit-Remaining',\n",
       " 'X-RateLimit-Reset',\n",
       " 'X-RateLimit-Used',\n",
       " 'X-RateLimit-Resource',\n",
       " 'Access-Control-Expose-Headers',\n",
       " 'Access-Control-Allow-Origin',\n",
       " 'Strict-Transport-Security',\n",
       " 'X-Frame-Options',\n",
       " 'X-Content-Type-Options',\n",
       " 'X-XSS-Protection',\n",
       " 'Referrer-Policy',\n",
       " 'Content-Security-Policy',\n",
       " 'Content-Encoding',\n",
       " 'x-envoy-upstream-service-time',\n",
       " 'Transfer-Encoding',\n",
       " 'X-GitHub-Request-Id']"
      ]
     },
     "execution_count": 19,
     "metadata": {},
     "output_type": "execute_result"
    }
   ],
   "source": [
    "list(res.headers.keys())"
   ]
  },
  {
   "cell_type": "code",
   "execution_count": 18,
   "metadata": {},
   "outputs": [
    {
     "data": {
      "text/plain": [
       "NoneType"
      ]
     },
     "execution_count": 18,
     "metadata": {},
     "output_type": "execute_result"
    }
   ],
   "source": [
    "import requests\n",
    "\n",
    "res = requests.get(\"https://api.github.com/users/macournoyer\")\n",
    "type(res.json()[\"hireable\"])"
   ]
  }
 ],
 "metadata": {
  "kernelspec": {
   "display_name": "gitmeetup",
   "language": "python",
   "name": "python3"
  },
  "language_info": {
   "codemirror_mode": {
    "name": "ipython",
    "version": 3
   },
   "file_extension": ".py",
   "mimetype": "text/x-python",
   "name": "python",
   "nbconvert_exporter": "python",
   "pygments_lexer": "ipython3",
   "version": "3.11.5"
  }
 },
 "nbformat": 4,
 "nbformat_minor": 2
}
