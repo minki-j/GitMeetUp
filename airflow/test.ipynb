{
 "cells": [
  {
   "cell_type": "code",
   "execution_count": 1,
   "metadata": {},
   "outputs": [],
   "source": [
    "list1 = [1, 2, 3]\n",
    "list1.append(4)  # Adds 4 to the end of list1\n",
    "# list1 is now [1, 2, 3, 4]\n",
    "\n",
    "list2 = [5, 6]\n",
    "list1.append(list2)  # Adds list2 as a single element to the end of list1\n",
    "# list1 is now [1, 2, 3, 4, [5, 6]]"
   ]
  },
  {
   "cell_type": "code",
   "execution_count": 2,
   "metadata": {},
   "outputs": [
    {
     "data": {
      "text/plain": [
       "[1, 2, 3, 4, [5, 6]]"
      ]
     },
     "execution_count": 2,
     "metadata": {},
     "output_type": "execute_result"
    }
   ],
   "source": [
    "list1"
   ]
  },
  {
   "cell_type": "code",
   "execution_count": 2,
   "metadata": {},
   "outputs": [],
   "source": [
    "import os\n",
    "import modal\n",
    "from dotenv import load_dotenv\n",
    "\n",
    "load_dotenv()\n",
    "\n",
    "client = modal.Client.from_credentials(\n",
    "    token_id=os.environ[\"MODAL_TOKEN_ID\"],\n",
    "    token_secret=os.environ[\"MODAL_TOKEN_SECRET\"],\n",
    ")"
   ]
  },
  {
   "cell_type": "code",
   "execution_count": 6,
   "metadata": {},
   "outputs": [
    {
     "data": {
      "application/vnd.jupyter.widget-view+json": {
       "model_id": "da865ca58c3c403c8e46e3011ba8315e",
       "version_major": 2,
       "version_minor": 0
      },
      "text/plain": [
       "Output()"
      ]
     },
     "metadata": {},
     "output_type": "display_data"
    },
    {
     "data": {
      "text/html": [
       "<pre style=\"white-space:pre;overflow-x:auto;line-height:normal;font-family:Menlo,'DejaVu Sans Mono',consolas,'Courier New',monospace\"><span style=\"color: #008000; text-decoration-color: #008000\">✓</span> Initialized. <span style=\"color: #b2b2b2; text-decoration-color: #b2b2b2\">View run at </span><span style=\"color: #b2b2b2; text-decoration-color: #b2b2b2; text-decoration: underline\">https://modal.com/jung0072/main/apps/ap-7D4JoedrlHaqrNiB6xWnEz</span>\n",
       "</pre>\n"
      ],
      "text/plain": [
       "\u001b[32m✓\u001b[0m Initialized. \u001b[38;5;249mView run at \u001b[0m\u001b[4;38;5;249mhttps://modal.com/jung0072/main/apps/ap-7D4JoedrlHaqrNiB6xWnEz\u001b[0m\n"
      ]
     },
     "metadata": {},
     "output_type": "display_data"
    },
    {
     "data": {
      "text/html": [
       "<pre style=\"white-space:pre;overflow-x:auto;line-height:normal;font-family:Menlo,'DejaVu Sans Mono',consolas,'Courier New',monospace\"></pre>\n"
      ],
      "text/plain": []
     },
     "metadata": {},
     "output_type": "display_data"
    },
    {
     "data": {
      "application/vnd.jupyter.widget-view+json": {
       "model_id": "fbc9094c6fb4494cbeb97765e81e9674",
       "version_major": 2,
       "version_minor": 0
      },
      "text/plain": [
       "Output()"
      ]
     },
     "metadata": {},
     "output_type": "display_data"
    },
    {
     "data": {
      "text/html": [
       "<pre style=\"white-space:pre;overflow-x:auto;line-height:normal;font-family:Menlo,'DejaVu Sans Mono',consolas,'Courier New',monospace\"></pre>\n"
      ],
      "text/plain": []
     },
     "metadata": {},
     "output_type": "display_data"
    },
    {
     "data": {
      "text/html": [
       "<pre style=\"white-space:pre;overflow-x:auto;line-height:normal;font-family:Menlo,'DejaVu Sans Mono',consolas,'Courier New',monospace\"><span style=\"color: #008000; text-decoration-color: #008000\">✓</span> Created objects.\n",
       "</pre>\n"
      ],
      "text/plain": [
       "\u001b[32m✓\u001b[0m Created objects.\n"
      ]
     },
     "metadata": {},
     "output_type": "display_data"
    },
    {
     "data": {
      "application/vnd.jupyter.widget-view+json": {
       "model_id": "a7e0f3a08b104fa58727978d7ab74141",
       "version_major": 2,
       "version_minor": 0
      },
      "text/plain": [
       "Output()"
      ]
     },
     "metadata": {},
     "output_type": "display_data"
    },
    {
     "data": {
      "text/html": [
       "<pre style=\"white-space:pre;overflow-x:auto;line-height:normal;font-family:Menlo,'DejaVu Sans Mono',consolas,'Courier New',monospace\">hi\n",
       "</pre>\n"
      ],
      "text/plain": [
       "hi\n"
      ]
     },
     "metadata": {},
     "output_type": "display_data"
    },
    {
     "data": {
      "text/html": [
       "<pre style=\"white-space:pre;overflow-x:auto;line-height:normal;font-family:Menlo,'DejaVu Sans Mono',consolas,'Courier New',monospace\"></pre>\n"
      ],
      "text/plain": []
     },
     "metadata": {},
     "output_type": "display_data"
    },
    {
     "data": {
      "text/html": [
       "<pre style=\"white-space:pre;overflow-x:auto;line-height:normal;font-family:Menlo,'DejaVu Sans Mono',consolas,'Courier New',monospace\"><span style=\"color: #808000; text-decoration-color: #808000\">Stopping app - local entrypoint completed.\n",
       "</span></pre>\n"
      ],
      "text/plain": [
       "\u001b[33mStopping app - local entrypoint completed.\n",
       "\u001b[0m"
      ]
     },
     "metadata": {},
     "output_type": "display_data"
    },
    {
     "data": {
      "text/html": [
       "<pre style=\"white-space:pre;overflow-x:auto;line-height:normal;font-family:Menlo,'DejaVu Sans Mono',consolas,'Courier New',monospace\"><span style=\"color: #008000; text-decoration-color: #008000\">✓</span> App completed. <span style=\"color: #b2b2b2; text-decoration-color: #b2b2b2\">View run at </span><span style=\"color: #b2b2b2; text-decoration-color: #b2b2b2; text-decoration: underline\">https://modal.com/jung0072/main/apps/ap-7D4JoedrlHaqrNiB6xWnEz</span>\n",
       "</pre>\n"
      ],
      "text/plain": [
       "\u001b[32m✓\u001b[0m App completed. \u001b[38;5;249mView run at \u001b[0m\u001b[4;38;5;249mhttps://modal.com/jung0072/main/apps/ap-7D4JoedrlHaqrNiB6xWnEz\u001b[0m\n"
      ]
     },
     "metadata": {},
     "output_type": "display_data"
    }
   ],
   "source": [
    "app = modal.App(f\"airflow\")\n",
    "\n",
    "with app.run(client=client):\n",
    "    print(\"hi\")"
   ]
  },
  {
   "cell_type": "code",
   "execution_count": 1,
   "metadata": {},
   "outputs": [
    {
     "data": {
      "text/plain": [
       "23502"
      ]
     },
     "execution_count": 1,
     "metadata": {},
     "output_type": "execute_result"
    }
   ],
   "source": [
    "import json\n",
    "\n",
    "with open(\"../data/users_in_montreal_deduplicated.json\") as f:\n",
    "    users = json.load(f)\n",
    "\n",
    "len(users)"
   ]
  },
  {
   "cell_type": "code",
   "execution_count": 4,
   "metadata": {},
   "outputs": [
    {
     "data": {
      "text/plain": [
       "'2008-01-01..2008-02-01'"
      ]
     },
     "execution_count": 4,
     "metadata": {},
     "output_type": "execute_result"
    }
   ],
   "source": [
    "from dags.utils.date_utils import generate_date_intervals\n",
    "dates = generate_date_intervals(interval_days=60)\n",
    "dates[0]"
   ]
  },
  {
   "cell_type": "code",
   "execution_count": 9,
   "metadata": {},
   "outputs": [
    {
     "name": "stdout",
     "output_type": "stream",
     "text": [
      "length of github_accounts_from_airflow:  10492\n",
      "length of users:  23502\n"
     ]
    }
   ],
   "source": [
    "import json\n",
    "with open(\"../data/github_accounts_202406250917.json\") as f:\n",
    "    github_accounts_from_airflow = json.load(f)\n",
    "    print(\"length of github_accounts_from_airflow: \", len(github_accounts_from_airflow))\n",
    "\n",
    "with open(\"../data/users_in_montreal_deduplicated.json\") as f:\n",
    "    users = json.load(f)\n",
    "    print(\"length of users: \", len(users))"
   ]
  },
  {
   "cell_type": "code",
   "execution_count": 10,
   "metadata": {},
   "outputs": [
    {
     "data": {
      "text/plain": [
       "13237"
      ]
     },
     "execution_count": 10,
     "metadata": {},
     "output_type": "execute_result"
    }
   ],
   "source": [
    "# Find users that is not in github_accounts_from_airflow but in users\n",
    "ids_in_github_accounts_from_airflow = [account[\"id\"] for account in github_accounts_from_airflow]\n",
    "\n",
    "users_not_in_github_accounts_from_airflow = []\n",
    "for user in users:\n",
    "    if user[\"id\"] not in ids_in_github_accounts_from_airflow:\n",
    "        users_not_in_github_accounts_from_airflow.append(user)\n",
    "\n",
    "len(users_not_in_github_accounts_from_airflow)"
   ]
  },
  {
   "cell_type": "code",
   "execution_count": 12,
   "metadata": {},
   "outputs": [
    {
     "data": {
      "text/plain": [
       "10265"
      ]
     },
     "execution_count": 12,
     "metadata": {},
     "output_type": "execute_result"
    }
   ],
   "source": [
    "len(users) - len(users_not_in_github_accounts_from_airflow)"
   ]
  },
  {
   "cell_type": "code",
   "execution_count": 11,
   "metadata": {},
   "outputs": [
    {
     "data": {
      "text/plain": [
       "[{'login': 'vinokurov-nikola',\n",
       "  'id': 173086762,\n",
       "  'node_id': 'U_kgDOClEYKg',\n",
       "  'avatar_url': 'https://avatars.githubusercontent.com/u/173086762?v=4',\n",
       "  'gravatar_id': '',\n",
       "  'url': 'https://api.github.com/users/vinokurov-nikola',\n",
       "  'html_url': 'https://github.com/vinokurov-nikola',\n",
       "  'followers_url': 'https://api.github.com/users/vinokurov-nikola/followers',\n",
       "  'following_url': 'https://api.github.com/users/vinokurov-nikola/following{/other_user}',\n",
       "  'gists_url': 'https://api.github.com/users/vinokurov-nikola/gists{/gist_id}',\n",
       "  'starred_url': 'https://api.github.com/users/vinokurov-nikola/starred{/owner}{/repo}',\n",
       "  'subscriptions_url': 'https://api.github.com/users/vinokurov-nikola/subscriptions',\n",
       "  'organizations_url': 'https://api.github.com/users/vinokurov-nikola/orgs',\n",
       "  'repos_url': 'https://api.github.com/users/vinokurov-nikola/repos',\n",
       "  'events_url': 'https://api.github.com/users/vinokurov-nikola/events{/privacy}',\n",
       "  'received_events_url': 'https://api.github.com/users/vinokurov-nikola/received_events',\n",
       "  'type': 'User',\n",
       "  'site_admin': False,\n",
       "  'score': 1.0},\n",
       " {'login': 'usroute1',\n",
       "  'id': 172986426,\n",
       "  'node_id': 'U_kgDOCk-QOg',\n",
       "  'avatar_url': 'https://avatars.githubusercontent.com/u/172986426?v=4',\n",
       "  'gravatar_id': '',\n",
       "  'url': 'https://api.github.com/users/usroute1',\n",
       "  'html_url': 'https://github.com/usroute1',\n",
       "  'followers_url': 'https://api.github.com/users/usroute1/followers',\n",
       "  'following_url': 'https://api.github.com/users/usroute1/following{/other_user}',\n",
       "  'gists_url': 'https://api.github.com/users/usroute1/gists{/gist_id}',\n",
       "  'starred_url': 'https://api.github.com/users/usroute1/starred{/owner}{/repo}',\n",
       "  'subscriptions_url': 'https://api.github.com/users/usroute1/subscriptions',\n",
       "  'organizations_url': 'https://api.github.com/users/usroute1/orgs',\n",
       "  'repos_url': 'https://api.github.com/users/usroute1/repos',\n",
       "  'events_url': 'https://api.github.com/users/usroute1/events{/privacy}',\n",
       "  'received_events_url': 'https://api.github.com/users/usroute1/received_events',\n",
       "  'type': 'User',\n",
       "  'site_admin': False,\n",
       "  'score': 1.0},\n",
       " {'login': 'viktory898',\n",
       "  'id': 172086527,\n",
       "  'node_id': 'U_kgDOCkHU_w',\n",
       "  'avatar_url': 'https://avatars.githubusercontent.com/u/172086527?v=4',\n",
       "  'gravatar_id': '',\n",
       "  'url': 'https://api.github.com/users/viktory898',\n",
       "  'html_url': 'https://github.com/viktory898',\n",
       "  'followers_url': 'https://api.github.com/users/viktory898/followers',\n",
       "  'following_url': 'https://api.github.com/users/viktory898/following{/other_user}',\n",
       "  'gists_url': 'https://api.github.com/users/viktory898/gists{/gist_id}',\n",
       "  'starred_url': 'https://api.github.com/users/viktory898/starred{/owner}{/repo}',\n",
       "  'subscriptions_url': 'https://api.github.com/users/viktory898/subscriptions',\n",
       "  'organizations_url': 'https://api.github.com/users/viktory898/orgs',\n",
       "  'repos_url': 'https://api.github.com/users/viktory898/repos',\n",
       "  'events_url': 'https://api.github.com/users/viktory898/events{/privacy}',\n",
       "  'received_events_url': 'https://api.github.com/users/viktory898/received_events',\n",
       "  'type': 'User',\n",
       "  'site_admin': False,\n",
       "  'score': 1.0}]"
      ]
     },
     "execution_count": 11,
     "metadata": {},
     "output_type": "execute_result"
    }
   ],
   "source": [
    "users_not_in_github_accounts_from_airflow[:3]"
   ]
  },
  {
   "cell_type": "code",
   "execution_count": 19,
   "metadata": {},
   "outputs": [
    {
     "data": {
      "text/plain": [
       "bool"
      ]
     },
     "execution_count": 19,
     "metadata": {},
     "output_type": "execute_result"
    }
   ],
   "source": [
    "import requests\n",
    "res = requests.get(\"https://api.github.com/users/minki-j\")\n",
    "type(res.json()[\"hireable\"])"
   ]
  },
  {
   "cell_type": "code",
   "execution_count": 18,
   "metadata": {},
   "outputs": [
    {
     "data": {
      "text/plain": [
       "NoneType"
      ]
     },
     "execution_count": 18,
     "metadata": {},
     "output_type": "execute_result"
    }
   ],
   "source": [
    "import requests\n",
    "\n",
    "res = requests.get(\"https://api.github.com/users/macournoyer\")\n",
    "type(res.json()[\"hireable\"])"
   ]
  }
 ],
 "metadata": {
  "kernelspec": {
   "display_name": "gitmeetup",
   "language": "python",
   "name": "python3"
  },
  "language_info": {
   "codemirror_mode": {
    "name": "ipython",
    "version": 3
   },
   "file_extension": ".py",
   "mimetype": "text/x-python",
   "name": "python",
   "nbconvert_exporter": "python",
   "pygments_lexer": "ipython3",
   "version": "3.11.5"
  }
 },
 "nbformat": 4,
 "nbformat_minor": 2
}
