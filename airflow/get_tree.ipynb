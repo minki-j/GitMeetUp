{
 "cells": [
  {
   "cell_type": "code",
   "execution_count": 2,
   "metadata": {},
   "outputs": [],
   "source": [
    "import os\n",
    "import requests\n",
    "import pendulum\n",
    "import dotenv\n",
    "\n",
    "dotenv.load_dotenv()\n",
    "\n",
    "def github_api_request(type, url, last_fetch_at, params=None):\n",
    "\n",
    "    token = os.getenv(\"GITHUB_TOKEN\")\n",
    "    if not token:\n",
    "        raise ValueError(\"Github token is not set\")\n",
    "\n",
    "    headers = {\"Authorization\": f\"Bearer {token}\"}\n",
    "\n",
    "    if last_fetch_at:\n",
    "        headers[\"if-modified-since\"] = last_fetch_at.strftime(\n",
    "            \"%a, %d %b %Y %H:%M:%S GMT\"\n",
    "        )\n",
    "\n",
    "    if type == \"GET\":\n",
    "        response = requests.get(url, headers=headers, params=params)\n",
    "    elif type == \"POST\":\n",
    "        response = requests.post(url, headers=headers, json=params)\n",
    "    elif type == \"PATCH\":\n",
    "        response = requests.patch(url, headers=headers, json=params)\n",
    "    elif type == \"PUT\":\n",
    "        response = requests.put(url, headers=headers, json=params)\n",
    "    elif type == \"DELETE\":\n",
    "        response = requests.delete(url, headers=headers)\n",
    "    else:\n",
    "        raise ValueError(f\"Unsupported type: {type}\")\n",
    "\n",
    "    if response.status_code == 200:\n",
    "        # print(f\"==> 200 OK for {url}\")\n",
    "        pass\n",
    "    elif response.status_code == 304:\n",
    "        print(f\"==> 304 Not Modified since the last fetch: {url}\")\n",
    "        pass\n",
    "    elif response.status_code == 403:\n",
    "        print(f\"403 Forbidden Error for {url} / Message: {response.text}\")\n",
    "        print(\n",
    "            f\"remaining rate limit: {response.headers['X-RateLimit-Remaining']} reset: {pendulum.from_timestamp(int(response.headers['X-RateLimit-Reset'])).in_tz('America/Montreal')}\"\n",
    "        )\n",
    "        pass\n",
    "    elif response.status_code == 404:\n",
    "        print(f\"Not Found:{url}\")\n",
    "        pass\n",
    "    else:\n",
    "        print(f\"{response.status_code} Error for {url} / Message: {response.text}\")\n",
    "        pass\n",
    "\n",
    "    return response"
   ]
  },
  {
   "cell_type": "code",
   "execution_count": 3,
   "metadata": {},
   "outputs": [],
   "source": [
    "from collections import defaultdict\n",
    "\n",
    "\n",
    "def build_tree(paths):\n",
    "    tree = lambda: defaultdict(tree)\n",
    "    root = tree()\n",
    "    for path in paths:\n",
    "        parts = path.split(\"/\")\n",
    "        current_level = root\n",
    "        for part in parts:\n",
    "            current_level = current_level[part]\n",
    "    return root\n",
    "\n",
    "\n",
    "def tree_to_string(tree, indent=\"\"):\n",
    "    tree_str = \"\"\n",
    "    for key, subtree in sorted(tree.items()):\n",
    "        tree_str += f\"{indent}├── {key}\\n\"\n",
    "        if subtree:\n",
    "            tree_str += tree_to_string(subtree, indent + \"│ \")\n",
    "    return tree_str\n",
    "\n",
    "\n",
    "def generate_tree(paths):\n",
    "    tree = build_tree(paths)\n",
    "    return tree_to_string(tree)"
   ]
  },
  {
   "cell_type": "code",
   "execution_count": 4,
   "metadata": {},
   "outputs": [
    {
     "name": "stdout",
     "output_type": "stream",
     "text": [
      "==>> tree_text: ├── .gitignore\n",
      "├── LICENSE\n",
      "├── README.md\n",
      "├── example.py\n",
      "├── poetry.lock\n",
      "├── pyproject.toml\n",
      "├── test\n",
      "│ ├── test_token_healing.py\n",
      "│ ├── test_trie.py\n",
      "├── tokenhealing\n",
      "│ ├── __init__.py\n",
      "│ ├── token_healing.py\n",
      "│ ├── trie.py\n",
      "\n"
     ]
    }
   ],
   "source": [
    "response = github_api_request(\n",
    "    \"GET\",\n",
    "    \"https://api.github.com/repos/ahmed-moubtahij/TokenHealer/git/trees/d2b700230d85a0fac0728eaffc27a25d7642f921\",\n",
    "    last_fetch_at=None,\n",
    "    params={\"recursive\": \"true\"},\n",
    ")\n",
    "data = response.json()\n",
    "tree = data[\"tree\"]\n",
    "tree_text = generate_tree([item[\"path\"] for item in tree])\n",
    "print(f\"==>> tree_text: {tree_text}\")"
   ]
  }
 ],
 "metadata": {
  "kernelspec": {
   "display_name": "gitmeetup",
   "language": "python",
   "name": "python3"
  },
  "language_info": {
   "codemirror_mode": {
    "name": "ipython",
    "version": 3
   },
   "file_extension": ".py",
   "mimetype": "text/x-python",
   "name": "python",
   "nbconvert_exporter": "python",
   "pygments_lexer": "ipython3",
   "version": "3.12.4"
  }
 },
 "nbformat": 4,
 "nbformat_minor": 2
}
