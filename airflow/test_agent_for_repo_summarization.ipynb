{
 "cells": [
  {
   "cell_type": "code",
   "execution_count": 10,
   "metadata": {},
   "outputs": [
    {
     "name": "stdout",
     "output_type": "stream",
     "text": [
      "<class 'langgraph.prebuilt.tool_executor.ToolExecutor'>\n"
     ]
    }
   ],
   "source": []
  },
  {
   "cell_type": "code",
   "execution_count": null,
   "metadata": {},
   "outputs": [],
   "source": [
    "\n",
    "import os\n",
    "from git import Repo\n",
    "from langchain.agents import initialize_agent, load_tools\n",
    "from langchain.chains import SimpleSequentialChain\n",
    "from langchain.prompts import PromptTemplate\n",
    "from langchain.llms import OpenAI\n",
    "\n",
    "\n",
    "# Function to clone the repo and list all files\n",
    "def clone_repo_and_list_files(repo_url, temp_dir):\n",
    "    if not os.path.exists(temp_dir):\n",
    "        os.makedirs(temp_dir)\n",
    "    Repo.clone_from(repo_url, temp_dir)\n",
    "\n",
    "    files_list = []\n",
    "    for root, _, files in os.walk(temp_dir):\n",
    "        for file in files:\n",
    "            files_list.append(os.path.join(root, file))\n",
    "    return files_list\n",
    "\n",
    "\n",
    "# Function to download a specific file\n",
    "def download_file(file_path, download_dir):\n",
    "    if not os.path.exists(download_dir):\n",
    "        os.makedirs(download_dir)\n",
    "    download_path = os.path.join(download_dir, os.path.basename(file_path))\n",
    "    os.rename(file_path, download_path)\n",
    "    print(f\"File downloaded successfully to: {download_path}\")\n",
    "\n",
    "\n",
    "# Langchain Prompt to decide which file to download\n",
    "prompt = PromptTemplate(\n",
    "    input_variables=[\"files_list\"],\n",
    "    template=\"Here is the list of files:\\n{files_list}\\nWhich file should I download? Return the file path.\",\n",
    ")\n",
    "\n",
    "# Initialize Langchain LLM\n",
    "llm = OpenAI(model=\"text-davinci-003\", api_key=\"your_openai_api_key\")\n",
    "\n",
    "# Define a simple sequential chain\n",
    "chain = SimpleSequentialChain(\n",
    "    llm=llm,\n",
    "    prompt_template=prompt,\n",
    ")\n",
    "\n",
    "\n",
    "# Main function\n",
    "def main(repo_url, temp_dir, download_dir):\n",
    "    # Step 1: Clone repo and list files\n",
    "    files_list = clone_repo_and_list_files(repo_url, temp_dir)\n",
    "\n",
    "    # Step 2: Use Langchain to decide which file to download\n",
    "    files_list_str = \"\\n\".join(files_list)\n",
    "    file_to_download = chain.run({\"files_list\": files_list_str})\n",
    "\n",
    "    # Step 3: Download the decided file\n",
    "    file_to_download = file_to_download.strip()  # Clean the output\n",
    "    if file_to_download in files_list:\n",
    "        download_file(file_to_download, download_dir)\n",
    "    else:\n",
    "        print(\"Invalid file path returned by Langchain.\")\n",
    "\n",
    "\n",
    "# Example usage\n",
    "repo_url = \"https://github.com/minki-j/GitMeetUp.git\"\n",
    "temp_dir = \"./temp_repo\"\n",
    "download_dir = \"./downloads\"\n",
    "\n",
    "main(repo_url, temp_dir, download_dir)"
   ]
  }
 ],
 "metadata": {
  "kernelspec": {
   "display_name": "gitmeetup",
   "language": "python",
   "name": "python3"
  },
  "language_info": {
   "codemirror_mode": {
    "name": "ipython",
    "version": 3
   },
   "file_extension": ".py",
   "mimetype": "text/x-python",
   "name": "python",
   "nbconvert_exporter": "python",
   "pygments_lexer": "ipython3",
   "version": "3.12.4"
  }
 },
 "nbformat": 4,
 "nbformat_minor": 2
}
