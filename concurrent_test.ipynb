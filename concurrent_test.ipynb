{
 "cells": [
  {
   "cell_type": "code",
   "execution_count": 7,
   "metadata": {},
   "outputs": [
    {
     "name": "stdout",
     "output_type": "stream",
     "text": [
      "0 start\n",
      "2 start\n",
      "4 start\n",
      "0 result: result 0\n",
      "6 start1 result: result 2\n",
      "\n",
      "8 start2 result: result 4\n",
      "\n",
      "3 result: result 6\n",
      "4 result: result 8\n"
     ]
    }
   ],
   "source": [
    "import concurrent.futures\n",
    "import time\n",
    "\n",
    "def foo(i):\n",
    "    print(f\"{i} start\")\n",
    "    time.sleep(i)\n",
    "    return f\"result {i}\"\n",
    "\n",
    "with concurrent.futures.ThreadPoolExecutor(max_workers=2) as executor:\n",
    "    futures = {executor.submit(foo, 2*i): i for i in range(5)}\n",
    "    for future in concurrent.futures.as_completed(futures):\n",
    "        print(f\"{futures[future]} result: {future.result()}\")"
   ]
  },
  {
   "cell_type": "code",
   "execution_count": null,
   "metadata": {},
   "outputs": [],
   "source": []
  },
  {
   "cell_type": "code",
   "execution_count": null,
   "metadata": {},
   "outputs": [],
   "source": []
  }
 ],
 "metadata": {
  "kernelspec": {
   "display_name": "kaggle",
   "language": "python",
   "name": "python3"
  },
  "language_info": {
   "codemirror_mode": {
    "name": "ipython",
    "version": 3
   },
   "file_extension": ".py",
   "mimetype": "text/x-python",
   "name": "python",
   "nbconvert_exporter": "python",
   "pygments_lexer": "ipython3",
   "version": "3.1.-1"
  }
 },
 "nbformat": 4,
 "nbformat_minor": 2
}
