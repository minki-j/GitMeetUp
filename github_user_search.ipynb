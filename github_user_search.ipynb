{
 "cells": [
  {
   "cell_type": "code",
   "execution_count": 23,
   "metadata": {},
   "outputs": [
    {
     "name": "stdout",
     "output_type": "stream",
     "text": [
      "Fetching page 1. Total users: 0\n",
      "Fetching page 2. Total users: 100\n",
      "Fetching page 3. Total users: 200\n",
      "Fetching page 4. Total users: 300\n",
      "Fetching page 5. Total users: 400\n",
      "Fetching page 6. Total users: 500\n",
      "Fetching page 7. Total users: 600\n",
      "Fetching page 8. Total users: 700\n",
      "Fetching page 9. Total users: 800\n",
      "Fetching page 10. Total users: 900\n",
      "Fetching page 11. Total users: 1000\n",
      "Failed to fetch repositories: 403\n",
      "<Response [403]>\n"
     ]
    }
   ],
   "source": [
    "import requests\n",
    "import json\n",
    "import time\n",
    "\n",
    "base_url = \"https://api.github.com/search/users?\"\n",
    "\n",
    "users_in_montreal = []\n",
    "page = 1\n",
    "\n",
    "while True:\n",
    "    print(f\"Fetching page {page}. Total users: {len(users_in_montreal)}\")\n",
    "    # Send the GET request to the GitHub API with the current page number\n",
    "    response = requests.get(\n",
    "        base_url,\n",
    "        params={\n",
    "            \"q\": \"location:montreal followers:>5 followers:<10\",\n",
    "            \"page\": page,\n",
    "            \"per_page\": 100,\n",
    "            \"sort\": \"followers updated\",\n",
    "            \"order\": \"asc\",\n",
    "        },\n",
    "    )\n",
    "\n",
    "    # # wait for 30 seconds\n",
    "    # if response.status_code == 403:\n",
    "    #     print(response)\n",
    "    #     print(\"Rate limit exceeded. Waiting for 60 seconds...\")\n",
    "    #     time.sleep(61)\n",
    "    #     continue\n",
    "\n",
    "    # Check if the request was successful\n",
    "    if response.status_code == 200:\n",
    "        users = response.json()[\"items\"]\n",
    "\n",
    "        if not users:\n",
    "            break\n",
    "\n",
    "        users_in_montreal.extend(users)\n",
    "\n",
    "        page += 1\n",
    "    else:\n",
    "        print(f\"Failed to fetch repositories: {response.status_code}\")\n",
    "        print(response)\n",
    "        break\n",
    "\n",
    "# Save the list of users to a file\n",
    "with open(\"users_in_montreal_sorted_follower5to10.json\", \"w\") as file:\n",
    "    json.dump(users_in_montreal, file, indent=4)"
   ]
  },
  {
   "cell_type": "code",
   "execution_count": null,
   "metadata": {},
   "outputs": [],
   "source": [
    "# get repo list that is not forked\n",
    "import requests\n",
    "\n",
    "# URL for the GitHub user's repositories\n",
    "url = \"https://api.github.com/users/minki-j/repos\"\n",
    "\n",
    "# Send the GET request to the GitHub API\n",
    "response = requests.get(url)\n",
    "\n",
    "# Check if the request was successful\n",
    "if response.status_code == 200:\n",
    "    # Parse the JSON response\n",
    "    repos = response.json()\n",
    "\n",
    "    # Filter out forked repositories\n",
    "    non_forked_repos = [repo for repo in repos if not repo[\"fork\"]]\n",
    "\n",
    "    # Print the non-forked repositories\n",
    "    for repo in non_forked_repos:\n",
    "        print(f\"Name: {repo['name']}, URL: {repo['html_url']}\")\n",
    "else:\n",
    "    print(f\"Failed to fetch repositories: {response.status_code}\")"
   ]
  }
 ],
 "metadata": {
  "kernelspec": {
   "display_name": "kaggle",
   "language": "python",
   "name": "python3"
  },
  "language_info": {
   "codemirror_mode": {
    "name": "ipython",
    "version": 3
   },
   "file_extension": ".py",
   "mimetype": "text/x-python",
   "name": "python",
   "nbconvert_exporter": "python",
   "pygments_lexer": "ipython3",
   "version": "3.11.5"
  }
 },
 "nbformat": 4,
 "nbformat_minor": 2
}
